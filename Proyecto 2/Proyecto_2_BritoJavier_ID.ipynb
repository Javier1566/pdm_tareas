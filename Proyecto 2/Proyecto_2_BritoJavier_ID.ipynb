{
 "cells": [
  {
   "cell_type": "markdown",
   "id": "0a22500b-75f6-4e9e-bff8-e2166e04bd6a",
   "metadata": {},
   "source": [
    "<h1><center>\n",
    "\n",
    "</center></h1>\n",
    "<font size=\"6\"><center>\n",
    "EIE 401\n",
    "PROCESAMIENTO DIGITAL MULTIMEDIA \n",
    "</center></font>"
   ]
  },
  {
   "cell_type": "markdown",
   "id": "4bb821ab-49e9-40ef-8ecd-d491bba9452c",
   "metadata": {},
   "source": [
    "\n",
    "<center><h2>Proyecto 2</h2></center>\n",
    "<center><h3>Procesamiento digital de señales</h3></center>\n",
    "<center><h3>Profesor: Jorge Cardenas</h3></center>\n",
    "\n",
    "<center><h3>Por: Javier Brito Parra</h3></center>\n",
    "<center><h5>Pontificia Universidad Catolica de Valparaiso</h5></center>\n",
    " "
   ]
  },
  {
   "cell_type": "code",
   "execution_count": 1,
   "id": "215c84a4",
   "metadata": {},
   "outputs": [],
   "source": [
    "from IPython.display import IFrame, display\n",
    "#filepath = \"Proyecto_2_EIE401.pdf\"\n",
    "#IFrame(filepath, width=700, height=400)"
   ]
  },
  {
   "cell_type": "markdown",
   "id": "c63b11e7",
   "metadata": {},
   "source": [
    "En la dirección https://huggingface.co/datasets/astroboy1/metasurfaces_V1_30-90GHZ encontrarás el archivo batch_june2024.zip que contiene las imagenes que usarás para el procesamiento. ATENCION: usa el archivo zip indicado pues tienes las imagenes preparadas para tu trabajo."
   ]
  },
  {
   "cell_type": "markdown",
   "id": "f0889ee3-d16b-49e3-be4b-a4c94f28701d",
   "metadata": {},
   "source": [
    "## 1. Carga de Datos\n"
   ]
  },
  {
   "cell_type": "markdown",
   "id": "567bb56f",
   "metadata": {},
   "source": [
    "- En los archivos, encontrarás un folder con imagenes de 3 categorías: cross, box, circle.\n",
    "Cada imagen tiene una medida de 512x512 pixeles y 3 canales. Se han acentuado los azules y rojos para facilitar el proceso de obtención de características.\n",
    "\n",
    "- Puedes extraer la clase a la que pertenece la imagen, desde el nombre del archivo. Ahí mismo encuentras números de serie que te permiten identificar de forma específica una imagen.\n",
    "\n",
    "- Se te entrega 3 imagenes de referencia de 32x32 pixeles, las que debes usar como plantilla para el proceso de clasificación de la imagen.\n"
   ]
  },
  {
   "cell_type": "code",
   "execution_count": 2,
   "id": "d0ab6ee5-d7a3-4cf7-9aee-1d1a76b5525f",
   "metadata": {
    "tags": []
   },
   "outputs": [],
   "source": [
    "import os\n",
    "import time\n",
    "import torch\n",
    "import torch.nn.functional as F\n",
    "from PIL import Image\n",
    "from torchvision import transforms\n",
    "import numpy as np\n",
    "import matplotlib.pyplot as plt\n",
    "from sklearn.metrics import confusion_matrix, accuracy_score, ConfusionMatrixDisplay"
   ]
  },
  {
   "cell_type": "code",
   "execution_count": 3,
   "id": "292e195f-9d50-4b5c-b7e8-5fcccdd9895b",
   "metadata": {},
   "outputs": [],
   "source": [
    "## Funcion de cargar imagen y devolver tensor en PyTorch.\n",
    "def load_image(image_path, transform=None):\n",
    "    image = Image.open(image_path).convert('L')## Convertir a escala de grises\n",
    "    if transform:\n",
    "        image = transform(image)         ## Aplicar transformacion si se especifica.\n",
    "    tensor_image = image_to_tensor(image)## Convertir la imagen a tensor\n",
    "    return tensor_image                  ## Devuelve un tensor\n",
    "\n",
    "def image_to_tensor(image):\n",
    "    # Convierte la imagen a un array de numpy, añade una dimensión adicional (para el canal), \n",
    "    ## Convierte a tipo float y normaliza los valores dividiéndolos por 255.\n",
    "    return torch.tensor(np.array(image)).unsqueeze(0).float() / 255.0"
   ]
  },
  {
   "cell_type": "markdown",
   "id": "28db8b8d",
   "metadata": {},
   "source": [
    "## 2. Transformar imagen\n",
    "Recuerda que la tarea es lograr el procesamiento más rápido posible.\n",
    "Para lograr esto, realiza las operaciones que consideres necesarias sobre la imagen original para el posterior trabajo de Matching con las plantillas dadas. Crees que trabajar en el dominio de fourier o wavelet ayudaría en las etapas posteriores?"
   ]
  },
  {
   "cell_type": "code",
   "execution_count": 4,
   "id": "3cf800d9",
   "metadata": {},
   "outputs": [],
   "source": [
    "## Transformaciones de imagenes a escala de grises\n",
    "transform = transforms.Compose([\n",
    "    transforms.Resize((512, 512)),## Dim(512x512)\n",
    "    transforms.Grayscale(),       ## Convertir a escala de grises\n",
    "])\n",
    "template_transform = transforms.Compose([\n",
    "    transforms.Resize((16, 16)),## Dim(16x16)\n",
    "    transforms.Grayscale(),     ## Convertir a escala de grises\n",
    "])\n"
   ]
  },
  {
   "cell_type": "markdown",
   "id": "2088c9f8-5876-4248-92d0-6b951c0d9466",
   "metadata": {},
   "source": [
    "* Se utiliza la resolución original para que el algoritmo no pierda fidelidad."
   ]
  },
  {
   "cell_type": "code",
   "execution_count": 5,
   "id": "0908b480-7cb4-4e68-aafb-4bf9749c98f7",
   "metadata": {},
   "outputs": [],
   "source": [
    "## Cargar templates\n",
    "templates_path = \"templates\"\n",
    "templates = {}   ## Se iterara en los 3 templates\n",
    "for template_name in [\"box_templae\", \"circ_templae\", \"cross_templae\"]:\n",
    "    template_path = os.path.join(templates_path, f\"{template_name}.png\")\n",
    "    templates[template_name] = load_image(template_path, template_transform)"
   ]
  },
  {
   "cell_type": "markdown",
   "id": "c64b67c8",
   "metadata": {},
   "source": [
    "## 3. Operaciones\n",
    "Para extraer las caracteristicas, debes realizar las operaciones de segmentación, normalización o convolución como creas necesarias.\n",
    "El resultado de tus operaciones vas a usarlo para el proceso de matching.\n"
   ]
  },
  {
   "cell_type": "markdown",
   "id": "06a00074-94eb-4576-9ee4-bff88c76b429",
   "metadata": {},
   "source": [
    "* Esta comentado cada proceso por el cual pasan las imagenes para realizar la convolucion normalizada."
   ]
  },
  {
   "cell_type": "code",
   "execution_count": 6,
   "id": "16275ac1",
   "metadata": {},
   "outputs": [],
   "source": [
    "def normalized_correlation(image, template):\n",
    "    template_mean = template.mean()                             ## Media del template.\n",
    "    template = template - template_mean                         ## Resta del valor de media a cada pixel del template.\n",
    "    template = template.unsqueeze(0)                            ## Añade una dimensión a la imagen template.\n",
    "    image_mean = image.mean(dim=(2, 3), keepdim=True)           ## Calculo media imagen original.\n",
    "    image_std = image.std(dim=(2, 3), keepdim=True)             ##  Calculo desviación estandar imagen original.\n",
    "    image_normalized = (image - image_mean) / (image_std + 1e-5)## Normaliza la imagen utilizando los\n",
    "                                                                ## valores de media y desviacion estandar.\n",
    "                                                                \n",
    "    template_std = template.std()                               ## Calcula la desviacion estandar de template.\n",
    "    template_normalized = template / (template_std + 1e-5)      ## Normalizacion template.\n",
    "    ## Convolucion entre imagenes normalizadas\n",
    "    norm_conv_result = F.conv2d(image_normalized, template_normalized, padding=0)\n",
    "    return norm_conv_result.squeeze().numpy()## Devuelve la correlacion normalizada"
   ]
  },
  {
   "attachments": {
    "6850d57c-7e6f-4acf-ac3b-d9a8feb071cb.png": {
     "image/png": "[encoded data removed]"
    }
   },
   "cell_type": "markdown",
   "id": "55e692dd",
   "metadata": {},
   "source": [
    "## 4. Matching\n",
    "El proceso de matching debe considerar que vas a usar las imagenes de referencia para calcular la correlación\n",
    "\n",
    "![image.png](attachment:6850d57c-7e6f-4acf-ac3b-d9a8feb071cb.png)\n",
    "\n",
    "Este proceso es similar a un windowing, donde la ventana es la imagen de referencia. \n",
    "Como verás es un proceso iterativo, dispendioso, pero en el que puedes poner tu creatividad a funcionar para lograrlo de forma eficiente.\n",
    "\n",
    "#### _TIP: realiza el proceso un batch pequeño de imagenes, o solo sobre un par de ellas, hasta que estés satisfecho con el resultado. Una vez esté listo, ESCALA el procedimiento para operar todas la imagenes lo más rápido posible.!_"
   ]
  },
  {
   "cell_type": "code",
   "execution_count": 7,
   "id": "8e7dfee1",
   "metadata": {},
   "outputs": [],
   "source": [
    "## Medir el tiempo de procesamiento\n",
    "start_time = time.time()\n",
    "\n",
    "# Procesar imágenes y obtener predicciones\n",
    "processed_path = \"processed512\" ## Ruta de carpeta con imagenes\n",
    "results = []\n",
    "for image_name in os.listdir(processed_path):\n",
    "    image_path = os.path.join(processed_path, image_name)\n",
    "    image = load_image(image_path, transform)\n",
    "    image = image.unsqueeze(0)## Utilizado para añador una dimension para la convolucion.\n",
    "    scores = {}\n",
    "    for template_name, template in templates.items():\n",
    "        correlation_map = normalized_correlation(image, template) ## Llamada a la funcion de correlacion normalizada por cada template.\n",
    "        scores[template_name] = correlation_map.max()\n",
    "    label = image_name.split('_')[0]\n",
    "    results.append((image_name, label, scores))"
   ]
  },
  {
   "cell_type": "markdown",
   "id": "550b44f5",
   "metadata": {
    "tags": []
   },
   "source": [
    "# 5. Clasificación\n",
    "De cada operación realizada de matching, obtendrás valores para inferir si la imagen bajo estudio corresponde con alguna de las 3 categorías: cross, box, circle.\n",
    "\n",
    "Debes almacenar cada resultado obtenido para cada imagen, hallar el error de clasificación y generar un informe del error general al clasificar todas las imagenes."
   ]
  },
  {
   "cell_type": "markdown",
   "id": "50606ff2-b6ab-4b75-9292-ca6dfd1f2cf3",
   "metadata": {
    "tags": []
   },
   "source": [
    "Presenta aquí el resultado de clasificación numérico, así como  dos ejemplos verdaderos y dos ejemplos falsos de imagenes clasificadas.\n"
   ]
  },
  {
   "cell_type": "markdown",
   "id": "460baf4a-2d71-40c3-b9de-6ff65c4d4a1f",
   "metadata": {},
   "source": [
    "* Se utilizo como criterio el valor mayor de la correlacion normalizada."
   ]
  },
  {
   "cell_type": "code",
   "execution_count": 8,
   "id": "13920e66-4b02-4fad-b711-78fe6249c5f8",
   "metadata": {},
   "outputs": [],
   "source": [
    "## Obtener las predicciones\n",
    "predictions = []\n",
    "for image_name, label, scores in results:\n",
    "    predicted_template = max(scores, key=scores.get)## Se busca en el diccionario de \"scores\" el valor mas alto.\n",
    "    prediction_score = scores[predicted_template]   ## \n",
    "    predictions.append((image_name, label, predicted_template, prediction_score))## Se convierte a un vector de \n",
    "                                                                                ## Imagen,etiqueta, etiqueta predecida y puntaje de correlacion.\n",
    "end_time = time.time()\n",
    "total_time = end_time - start_time ## Calculo del tiempo utilizado"
   ]
  },
  {
   "cell_type": "markdown",
   "id": "92adfee4-0ca3-440f-be0f-9b076f423923",
   "metadata": {},
   "source": [
    "* Se muestra el vector de prediccion obtenido y etiquetas reales."
   ]
  },
  {
   "cell_type": "code",
   "execution_count": 10,
   "id": "e11b9c43-3939-48a5-afb8-194a620588e4",
   "metadata": {},
   "outputs": [
    {
     "name": "stdout",
     "output_type": "stream",
     "text": [
      "('box_01_freq_reflect_09a2f2c2-ad7f-11ee-bb2a-047c16a08772_0-0_80-90.png', 'box', 'box_templae', 867.48083)\n"
     ]
    }
   ],
   "source": [
    "print(predictions[0])"
   ]
  },
  {
   "cell_type": "code",
   "execution_count": 11,
   "id": "459249d3-23d7-41d5-a62d-d6f9daa3547a",
   "metadata": {},
   "outputs": [
    {
     "name": "stdout",
     "output_type": "stream",
     "text": [
      "('box_01_freq_reflect_2a1a6b92-ea35-11ee-b922-047c16a08772_0-513_80-90.png', 'box', 'box_templae', 472.2976)\n"
     ]
    }
   ],
   "source": [
    "print(predictions[1000])"
   ]
  },
  {
   "cell_type": "code",
   "execution_count": 12,
   "id": "e22b0026-873d-46aa-8fb4-edb78d28092a",
   "metadata": {},
   "outputs": [
    {
     "name": "stdout",
     "output_type": "stream",
     "text": [
      "('circ_01_freq_reflect_536ce6b7-e07b-11ee-9fac-047c16a08772_0-10_80-90.png', 'circ', 'circ_templae', 255.8855)\n"
     ]
    }
   ],
   "source": [
    "print(predictions[4000])"
   ]
  },
  {
   "cell_type": "markdown",
   "id": "eabb66f1-1e29-4918-8ee9-1f009a24d16f",
   "metadata": {},
   "source": [
    "* Se muestran etiquetas erroneas:"
   ]
  },
  {
   "cell_type": "code",
   "execution_count": 13,
   "id": "f6cb458d-3e38-407c-bc2a-1785ccd6a1c9",
   "metadata": {},
   "outputs": [
    {
     "name": "stdout",
     "output_type": "stream",
     "text": [
      "('circ_01_freq_reflect_56dee422-b317-11ee-bb58-047c16a08772_0-129_80-90.png', 'circ', 'box_templae', 398.48383)\n"
     ]
    }
   ],
   "source": [
    "print(predictions[4500])"
   ]
  },
  {
   "cell_type": "code",
   "execution_count": 14,
   "id": "77361c99-188f-406a-9333-e12a8121b845",
   "metadata": {},
   "outputs": [
    {
     "name": "stdout",
     "output_type": "stream",
     "text": [
      "('circ_01_freq_reflect_56dee422-b317-11ee-bb58-047c16a08772_0-1344_80-90.png', 'circ', 'box_templae', 247.13239)\n"
     ]
    }
   ],
   "source": [
    "print(predictions[4550])"
   ]
  },
  {
   "cell_type": "markdown",
   "id": "fdd1f9b5-b62e-4b4d-a67b-54f9bf4c41dd",
   "metadata": {},
   "source": [
    "* Se obtiene la matriz de confusion, la cual muestra las etiquetas reales versus las predecidas por el codigo."
   ]
  },
  {
   "cell_type": "code",
   "execution_count": 15,
   "id": "a6d09c3c-442f-4ad8-a22d-2933c0e8621d",
   "metadata": {},
   "outputs": [
    {
     "data": {
      "image/png": "[encoded data removed]",
      "text/plain": [
       "<Figure size 640x480 with 2 Axes>"
      ]
     },
     "metadata": {},
     "output_type": "display_data"
    }
   ],
   "source": [
    "## Calcular la precisión y matriz de confusion\n",
    "true_labels = [label for _, label, _, _ in predictions]\n",
    "predicted_labels = [pred.split('_')[0] for _, _, pred, _ in predictions]\n",
    "accuracy = accuracy_score(true_labels, predicted_labels)\n",
    "conf_matrix = confusion_matrix(true_labels, predicted_labels, labels=[\"box\", \"circ\", \"cross\"])\n",
    "\n",
    "## Graficar la matriz de confusion.\n",
    "disp = ConfusionMatrixDisplay(confusion_matrix=conf_matrix, display_labels=[\"box\", \"circ\", \"cross\"])\n",
    "disp.plot(cmap=plt.cm.Blues)\n",
    "plt.show()"
   ]
  },
  {
   "cell_type": "markdown",
   "id": "a05bf487-79d7-4a8d-8006-4f2a6fba32f1",
   "metadata": {},
   "source": [
    "* Por ultimo se muestra el porcentaje de precisión calculado previamente."
   ]
  },
  {
   "cell_type": "code",
   "execution_count": 16,
   "id": "f702fe0a-1353-4d72-8613-735b67c79264",
   "metadata": {},
   "outputs": [
    {
     "name": "stdout",
     "output_type": "stream",
     "text": [
      "Precisión: 0.58\n"
     ]
    }
   ],
   "source": [
    "print(f\"Precisión: {accuracy:.2f}\")"
   ]
  },
  {
   "cell_type": "markdown",
   "id": "3add46e0-f5e2-4a20-8830-3e795f78d2a0",
   "metadata": {},
   "source": [
    "# 6. Medición\n",
    "Recuerda que debes imprimir el tiempo que tarda tu algoritmo en procesar todas las imagenes en la base de datos. Usa el siguiente fragmento de código, ubicando el inicio y fin donde corresponda."
   ]
  },
  {
   "cell_type": "markdown",
   "id": "22fe52d7-60d3-4806-9074-f9db71853675",
   "metadata": {},
   "source": [
    "* Se muestra la cantidad de segundos que se demoro el proceso, aproximadamente unos 4 minutos."
   ]
  },
  {
   "cell_type": "code",
   "execution_count": 18,
   "id": "bd8e1005-2576-4d78-93eb-3a3124f5394c",
   "metadata": {},
   "outputs": [
    {
     "name": "stdout",
     "output_type": "stream",
     "text": [
      "Total processing time: 247.24 seconds\n"
     ]
    }
   ],
   "source": [
    "print(f\"Total processing time: {total_time:.2f} seconds\")"
   ]
  }
 ],
 "metadata": {
  "kernelspec": {
   "display_name": "Python 3 (ipykernel)",
   "language": "python",
   "name": "python3"
  },
  "language_info": {
   "codemirror_mode": {
    "name": "ipython",
    "version": 3
   },
   "file_extension": ".py",
   "mimetype": "text/x-python",
   "name": "python",
   "nbconvert_exporter": "python",
   "pygments_lexer": "ipython3",
   "version": "3.11.7"
  }
 },
 "nbformat": 4,
 "nbformat_minor": 5
}
